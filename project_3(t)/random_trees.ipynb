{
  "cells": [
    {
      "cell_type": "code",
      "execution_count": 14,
      "id": "262df1dd",
      "metadata": {
        "id": "262df1dd"
      },
      "outputs": [],
      "source": [
        "# подключим модули\n",
        "\n",
        "import pandas as pd\n",
        "# import numpy as np\n",
        "# import time\n",
        "# import nltk\n",
        "# from nltk.sentiment.vader import SentimentIntensityAnalyzer\n",
        "# nltk.downloader.download('vader_lexicon')\n",
        "# import collections\n",
        "import matplotlib.pyplot as plt\n",
        "%matplotlib inline\n",
        "import seaborn as sns\n",
        "import category_encoders as ce\n",
        "\n",
        "from sklearn.feature_selection import chi2 # хи-квадрат\n",
        "from sklearn.feature_selection import f_classif # anova\n",
        "from sklearn.model_selection import train_test_split  # специальный инструмент для разбивки\n",
        "from sklearn.ensemble import RandomForestRegressor # инструмент для создания и обучения модели  \n",
        "from sklearn import metrics # инструменты для оценки точности модели  "
      ]
    },
    {
      "cell_type": "code",
      "execution_count": 15,
      "id": "c60dfffd",
      "metadata": {
        "id": "c60dfffd"
      },
      "outputs": [],
      "source": [
        "train_data = pd.read_csv('/content/drive/MyDrive/Project/hotels_train.csv') # датасет для обучения\n",
        "test_data = pd.read_csv('/content/drive/MyDrive/Project/hotels_test.csv') # датасет для предсказания"
      ]
    },
    {
      "cell_type": "code",
      "execution_count": 16,
      "id": "22d4ec55",
      "metadata": {
        "colab": {
          "base_uri": "https://localhost:8080/",
          "height": 468
        },
        "id": "22d4ec55",
        "outputId": "a7ccca2a-504b-48e3-c1dd-de2147631fb2"
      },
      "outputs": [
        {
          "data": {
            "text/html": [
              "\n",
              "  <div id=\"df-fea26c5c-fcc3-45a7-879e-adaf48899e8f\">\n",
              "    <div class=\"colab-df-container\">\n",
              "      <div>\n",
              "<style scoped>\n",
              "    .dataframe tbody tr th:only-of-type {\n",
              "        vertical-align: middle;\n",
              "    }\n",
              "\n",
              "    .dataframe tbody tr th {\n",
              "        vertical-align: top;\n",
              "    }\n",
              "\n",
              "    .dataframe thead th {\n",
              "        text-align: right;\n",
              "    }\n",
              "</style>\n",
              "<table border=\"1\" class=\"dataframe\">\n",
              "  <thead>\n",
              "    <tr style=\"text-align: right;\">\n",
              "      <th></th>\n",
              "      <th>hotel_address</th>\n",
              "      <th>additional_number_of_scoring</th>\n",
              "      <th>review_date</th>\n",
              "      <th>average_score</th>\n",
              "      <th>hotel_name</th>\n",
              "      <th>reviewer_nationality</th>\n",
              "      <th>negative_review</th>\n",
              "      <th>review_total_negative_word_counts</th>\n",
              "      <th>total_number_of_reviews</th>\n",
              "      <th>positive_review</th>\n",
              "      <th>review_total_positive_word_counts</th>\n",
              "      <th>total_number_of_reviews_reviewer_has_given</th>\n",
              "      <th>reviewer_score</th>\n",
              "      <th>tags</th>\n",
              "      <th>days_since_review</th>\n",
              "      <th>lat</th>\n",
              "      <th>lng</th>\n",
              "    </tr>\n",
              "  </thead>\n",
              "  <tbody>\n",
              "    <tr>\n",
              "      <th>0</th>\n",
              "      <td>Stratton Street Mayfair Westminster Borough Lo...</td>\n",
              "      <td>581</td>\n",
              "      <td>2/19/2016</td>\n",
              "      <td>8.4</td>\n",
              "      <td>The May Fair Hotel</td>\n",
              "      <td>United Kingdom</td>\n",
              "      <td>Leaving</td>\n",
              "      <td>3</td>\n",
              "      <td>1994</td>\n",
              "      <td>Staff were amazing</td>\n",
              "      <td>4</td>\n",
              "      <td>7</td>\n",
              "      <td>10.0</td>\n",
              "      <td>[' Leisure trip ', ' Couple ', ' Studio Suite ...</td>\n",
              "      <td>531 day</td>\n",
              "      <td>51.507894</td>\n",
              "      <td>-0.143671</td>\n",
              "    </tr>\n",
              "    <tr>\n",
              "      <th>1</th>\n",
              "      <td>130 134 Southampton Row Camden London WC1B 5AF...</td>\n",
              "      <td>299</td>\n",
              "      <td>1/12/2017</td>\n",
              "      <td>8.3</td>\n",
              "      <td>Mercure London Bloomsbury Hotel</td>\n",
              "      <td>United Kingdom</td>\n",
              "      <td>poor breakfast</td>\n",
              "      <td>3</td>\n",
              "      <td>1361</td>\n",
              "      <td>location</td>\n",
              "      <td>2</td>\n",
              "      <td>14</td>\n",
              "      <td>6.3</td>\n",
              "      <td>[' Business trip ', ' Couple ', ' Standard Dou...</td>\n",
              "      <td>203 day</td>\n",
              "      <td>51.521009</td>\n",
              "      <td>-0.123097</td>\n",
              "    </tr>\n",
              "    <tr>\n",
              "      <th>2</th>\n",
              "      <td>151 bis Rue de Rennes 6th arr 75006 Paris France</td>\n",
              "      <td>32</td>\n",
              "      <td>10/18/2016</td>\n",
              "      <td>8.9</td>\n",
              "      <td>Legend Saint Germain by Elegancia</td>\n",
              "      <td>China</td>\n",
              "      <td>No kettle in room</td>\n",
              "      <td>6</td>\n",
              "      <td>406</td>\n",
              "      <td>No Positive</td>\n",
              "      <td>0</td>\n",
              "      <td>14</td>\n",
              "      <td>7.5</td>\n",
              "      <td>[' Leisure trip ', ' Solo traveler ', ' Modern...</td>\n",
              "      <td>289 day</td>\n",
              "      <td>48.845377</td>\n",
              "      <td>2.325643</td>\n",
              "    </tr>\n",
              "  </tbody>\n",
              "</table>\n",
              "</div>\n",
              "      <button class=\"colab-df-convert\" onclick=\"convertToInteractive('df-fea26c5c-fcc3-45a7-879e-adaf48899e8f')\"\n",
              "              title=\"Convert this dataframe to an interactive table.\"\n",
              "              style=\"display:none;\">\n",
              "        \n",
              "  <svg xmlns=\"http://www.w3.org/2000/svg\" height=\"24px\"viewBox=\"0 0 24 24\"\n",
              "       width=\"24px\">\n",
              "    <path d=\"M0 0h24v24H0V0z\" fill=\"none\"/>\n",
              "    <path d=\"M18.56 5.44l.94 2.06.94-2.06 2.06-.94-2.06-.94-.94-2.06-.94 2.06-2.06.94zm-11 1L8.5 8.5l.94-2.06 2.06-.94-2.06-.94L8.5 2.5l-.94 2.06-2.06.94zm10 10l.94 2.06.94-2.06 2.06-.94-2.06-.94-.94-2.06-.94 2.06-2.06.94z\"/><path d=\"M17.41 7.96l-1.37-1.37c-.4-.4-.92-.59-1.43-.59-.52 0-1.04.2-1.43.59L10.3 9.45l-7.72 7.72c-.78.78-.78 2.05 0 2.83L4 21.41c.39.39.9.59 1.41.59.51 0 1.02-.2 1.41-.59l7.78-7.78 2.81-2.81c.8-.78.8-2.07 0-2.86zM5.41 20L4 18.59l7.72-7.72 1.47 1.35L5.41 20z\"/>\n",
              "  </svg>\n",
              "      </button>\n",
              "      \n",
              "  <style>\n",
              "    .colab-df-container {\n",
              "      display:flex;\n",
              "      flex-wrap:wrap;\n",
              "      gap: 12px;\n",
              "    }\n",
              "\n",
              "    .colab-df-convert {\n",
              "      background-color: #E8F0FE;\n",
              "      border: none;\n",
              "      border-radius: 50%;\n",
              "      cursor: pointer;\n",
              "      display: none;\n",
              "      fill: #1967D2;\n",
              "      height: 32px;\n",
              "      padding: 0 0 0 0;\n",
              "      width: 32px;\n",
              "    }\n",
              "\n",
              "    .colab-df-convert:hover {\n",
              "      background-color: #E2EBFA;\n",
              "      box-shadow: 0px 1px 2px rgba(60, 64, 67, 0.3), 0px 1px 3px 1px rgba(60, 64, 67, 0.15);\n",
              "      fill: #174EA6;\n",
              "    }\n",
              "\n",
              "    [theme=dark] .colab-df-convert {\n",
              "      background-color: #3B4455;\n",
              "      fill: #D2E3FC;\n",
              "    }\n",
              "\n",
              "    [theme=dark] .colab-df-convert:hover {\n",
              "      background-color: #434B5C;\n",
              "      box-shadow: 0px 1px 3px 1px rgba(0, 0, 0, 0.15);\n",
              "      filter: drop-shadow(0px 1px 2px rgba(0, 0, 0, 0.3));\n",
              "      fill: #FFFFFF;\n",
              "    }\n",
              "  </style>\n",
              "\n",
              "      <script>\n",
              "        const buttonEl =\n",
              "          document.querySelector('#df-fea26c5c-fcc3-45a7-879e-adaf48899e8f button.colab-df-convert');\n",
              "        buttonEl.style.display =\n",
              "          google.colab.kernel.accessAllowed ? 'block' : 'none';\n",
              "\n",
              "        async function convertToInteractive(key) {\n",
              "          const element = document.querySelector('#df-fea26c5c-fcc3-45a7-879e-adaf48899e8f');\n",
              "          const dataTable =\n",
              "            await google.colab.kernel.invokeFunction('convertToInteractive',\n",
              "                                                     [key], {});\n",
              "          if (!dataTable) return;\n",
              "\n",
              "          const docLinkHtml = 'Like what you see? Visit the ' +\n",
              "            '<a target=\"_blank\" href=https://colab.research.google.com/notebooks/data_table.ipynb>data table notebook</a>'\n",
              "            + ' to learn more about interactive tables.';\n",
              "          element.innerHTML = '';\n",
              "          dataTable['output_type'] = 'display_data';\n",
              "          await google.colab.output.renderOutput(dataTable, element);\n",
              "          const docLink = document.createElement('div');\n",
              "          docLink.innerHTML = docLinkHtml;\n",
              "          element.appendChild(docLink);\n",
              "        }\n",
              "      </script>\n",
              "    </div>\n",
              "  </div>\n",
              "  "
            ],
            "text/plain": [
              "                                       hotel_address  \\\n",
              "0  Stratton Street Mayfair Westminster Borough Lo...   \n",
              "1  130 134 Southampton Row Camden London WC1B 5AF...   \n",
              "2   151 bis Rue de Rennes 6th arr 75006 Paris France   \n",
              "\n",
              "   additional_number_of_scoring review_date  average_score  \\\n",
              "0                           581   2/19/2016            8.4   \n",
              "1                           299   1/12/2017            8.3   \n",
              "2                            32  10/18/2016            8.9   \n",
              "\n",
              "                          hotel_name reviewer_nationality  \\\n",
              "0                 The May Fair Hotel      United Kingdom    \n",
              "1    Mercure London Bloomsbury Hotel      United Kingdom    \n",
              "2  Legend Saint Germain by Elegancia               China    \n",
              "\n",
              "       negative_review  review_total_negative_word_counts  \\\n",
              "0             Leaving                                   3   \n",
              "1       poor breakfast                                  3   \n",
              "2   No kettle in room                                   6   \n",
              "\n",
              "   total_number_of_reviews      positive_review  \\\n",
              "0                     1994   Staff were amazing   \n",
              "1                     1361             location   \n",
              "2                      406          No Positive   \n",
              "\n",
              "   review_total_positive_word_counts  \\\n",
              "0                                  4   \n",
              "1                                  2   \n",
              "2                                  0   \n",
              "\n",
              "   total_number_of_reviews_reviewer_has_given  reviewer_score  \\\n",
              "0                                           7            10.0   \n",
              "1                                          14             6.3   \n",
              "2                                          14             7.5   \n",
              "\n",
              "                                                tags days_since_review  \\\n",
              "0  [' Leisure trip ', ' Couple ', ' Studio Suite ...           531 day   \n",
              "1  [' Business trip ', ' Couple ', ' Standard Dou...           203 day   \n",
              "2  [' Leisure trip ', ' Solo traveler ', ' Modern...           289 day   \n",
              "\n",
              "         lat       lng  \n",
              "0  51.507894 -0.143671  \n",
              "1  51.521009 -0.123097  \n",
              "2  48.845377  2.325643  "
            ]
          },
          "execution_count": 16,
          "metadata": {},
          "output_type": "execute_result"
        }
      ],
      "source": [
        "train_data.head(3)"
      ]
    },
    {
      "cell_type": "code",
      "execution_count": 17,
      "id": "6c754019",
      "metadata": {
        "colab": {
          "base_uri": "https://localhost:8080/",
          "height": 503
        },
        "id": "6c754019",
        "outputId": "db280a32-3f67-4a02-f6c6-8cb566c4c114"
      },
      "outputs": [
        {
          "data": {
            "text/html": [
              "\n",
              "  <div id=\"df-d4dd5c73-f208-4878-9ad9-2e62ae8357b7\">\n",
              "    <div class=\"colab-df-container\">\n",
              "      <div>\n",
              "<style scoped>\n",
              "    .dataframe tbody tr th:only-of-type {\n",
              "        vertical-align: middle;\n",
              "    }\n",
              "\n",
              "    .dataframe tbody tr th {\n",
              "        vertical-align: top;\n",
              "    }\n",
              "\n",
              "    .dataframe thead th {\n",
              "        text-align: right;\n",
              "    }\n",
              "</style>\n",
              "<table border=\"1\" class=\"dataframe\">\n",
              "  <thead>\n",
              "    <tr style=\"text-align: right;\">\n",
              "      <th></th>\n",
              "      <th>hotel_address</th>\n",
              "      <th>additional_number_of_scoring</th>\n",
              "      <th>review_date</th>\n",
              "      <th>average_score</th>\n",
              "      <th>hotel_name</th>\n",
              "      <th>reviewer_nationality</th>\n",
              "      <th>negative_review</th>\n",
              "      <th>review_total_negative_word_counts</th>\n",
              "      <th>total_number_of_reviews</th>\n",
              "      <th>positive_review</th>\n",
              "      <th>review_total_positive_word_counts</th>\n",
              "      <th>total_number_of_reviews_reviewer_has_given</th>\n",
              "      <th>tags</th>\n",
              "      <th>days_since_review</th>\n",
              "      <th>lat</th>\n",
              "      <th>lng</th>\n",
              "    </tr>\n",
              "  </thead>\n",
              "  <tbody>\n",
              "    <tr>\n",
              "      <th>0</th>\n",
              "      <td>Via Senigallia 6 20161 Milan Italy</td>\n",
              "      <td>904</td>\n",
              "      <td>7/21/2017</td>\n",
              "      <td>8.1</td>\n",
              "      <td>Hotel Da Vinci</td>\n",
              "      <td>United Kingdom</td>\n",
              "      <td>Would have appreciated a shop in the hotel th...</td>\n",
              "      <td>52</td>\n",
              "      <td>16670</td>\n",
              "      <td>Hotel was great clean friendly staff free bre...</td>\n",
              "      <td>62</td>\n",
              "      <td>1</td>\n",
              "      <td>[' Leisure trip ', ' Couple ', ' Double Room '...</td>\n",
              "      <td>13 days</td>\n",
              "      <td>45.533137</td>\n",
              "      <td>9.171102</td>\n",
              "    </tr>\n",
              "    <tr>\n",
              "      <th>1</th>\n",
              "      <td>Arlandaweg 10 Westpoort 1043 EW Amsterdam Neth...</td>\n",
              "      <td>612</td>\n",
              "      <td>12/12/2016</td>\n",
              "      <td>8.6</td>\n",
              "      <td>Urban Lodge Hotel</td>\n",
              "      <td>Belgium</td>\n",
              "      <td>No tissue paper box was present at the room</td>\n",
              "      <td>10</td>\n",
              "      <td>5018</td>\n",
              "      <td>No Positive</td>\n",
              "      <td>0</td>\n",
              "      <td>7</td>\n",
              "      <td>[' Leisure trip ', ' Group ', ' Triple Room ',...</td>\n",
              "      <td>234 day</td>\n",
              "      <td>52.385649</td>\n",
              "      <td>4.834443</td>\n",
              "    </tr>\n",
              "    <tr>\n",
              "      <th>2</th>\n",
              "      <td>Mallorca 251 Eixample 08008 Barcelona Spain</td>\n",
              "      <td>46</td>\n",
              "      <td>11/26/2015</td>\n",
              "      <td>8.3</td>\n",
              "      <td>Alexandra Barcelona A DoubleTree by Hilton</td>\n",
              "      <td>Sweden</td>\n",
              "      <td>Pillows</td>\n",
              "      <td>3</td>\n",
              "      <td>351</td>\n",
              "      <td>Nice welcoming and service</td>\n",
              "      <td>5</td>\n",
              "      <td>15</td>\n",
              "      <td>[' Business trip ', ' Solo traveler ', ' Twin ...</td>\n",
              "      <td>616 day</td>\n",
              "      <td>41.393192</td>\n",
              "      <td>2.161520</td>\n",
              "    </tr>\n",
              "  </tbody>\n",
              "</table>\n",
              "</div>\n",
              "      <button class=\"colab-df-convert\" onclick=\"convertToInteractive('df-d4dd5c73-f208-4878-9ad9-2e62ae8357b7')\"\n",
              "              title=\"Convert this dataframe to an interactive table.\"\n",
              "              style=\"display:none;\">\n",
              "        \n",
              "  <svg xmlns=\"http://www.w3.org/2000/svg\" height=\"24px\"viewBox=\"0 0 24 24\"\n",
              "       width=\"24px\">\n",
              "    <path d=\"M0 0h24v24H0V0z\" fill=\"none\"/>\n",
              "    <path d=\"M18.56 5.44l.94 2.06.94-2.06 2.06-.94-2.06-.94-.94-2.06-.94 2.06-2.06.94zm-11 1L8.5 8.5l.94-2.06 2.06-.94-2.06-.94L8.5 2.5l-.94 2.06-2.06.94zm10 10l.94 2.06.94-2.06 2.06-.94-2.06-.94-.94-2.06-.94 2.06-2.06.94z\"/><path d=\"M17.41 7.96l-1.37-1.37c-.4-.4-.92-.59-1.43-.59-.52 0-1.04.2-1.43.59L10.3 9.45l-7.72 7.72c-.78.78-.78 2.05 0 2.83L4 21.41c.39.39.9.59 1.41.59.51 0 1.02-.2 1.41-.59l7.78-7.78 2.81-2.81c.8-.78.8-2.07 0-2.86zM5.41 20L4 18.59l7.72-7.72 1.47 1.35L5.41 20z\"/>\n",
              "  </svg>\n",
              "      </button>\n",
              "      \n",
              "  <style>\n",
              "    .colab-df-container {\n",
              "      display:flex;\n",
              "      flex-wrap:wrap;\n",
              "      gap: 12px;\n",
              "    }\n",
              "\n",
              "    .colab-df-convert {\n",
              "      background-color: #E8F0FE;\n",
              "      border: none;\n",
              "      border-radius: 50%;\n",
              "      cursor: pointer;\n",
              "      display: none;\n",
              "      fill: #1967D2;\n",
              "      height: 32px;\n",
              "      padding: 0 0 0 0;\n",
              "      width: 32px;\n",
              "    }\n",
              "\n",
              "    .colab-df-convert:hover {\n",
              "      background-color: #E2EBFA;\n",
              "      box-shadow: 0px 1px 2px rgba(60, 64, 67, 0.3), 0px 1px 3px 1px rgba(60, 64, 67, 0.15);\n",
              "      fill: #174EA6;\n",
              "    }\n",
              "\n",
              "    [theme=dark] .colab-df-convert {\n",
              "      background-color: #3B4455;\n",
              "      fill: #D2E3FC;\n",
              "    }\n",
              "\n",
              "    [theme=dark] .colab-df-convert:hover {\n",
              "      background-color: #434B5C;\n",
              "      box-shadow: 0px 1px 3px 1px rgba(0, 0, 0, 0.15);\n",
              "      filter: drop-shadow(0px 1px 2px rgba(0, 0, 0, 0.3));\n",
              "      fill: #FFFFFF;\n",
              "    }\n",
              "  </style>\n",
              "\n",
              "      <script>\n",
              "        const buttonEl =\n",
              "          document.querySelector('#df-d4dd5c73-f208-4878-9ad9-2e62ae8357b7 button.colab-df-convert');\n",
              "        buttonEl.style.display =\n",
              "          google.colab.kernel.accessAllowed ? 'block' : 'none';\n",
              "\n",
              "        async function convertToInteractive(key) {\n",
              "          const element = document.querySelector('#df-d4dd5c73-f208-4878-9ad9-2e62ae8357b7');\n",
              "          const dataTable =\n",
              "            await google.colab.kernel.invokeFunction('convertToInteractive',\n",
              "                                                     [key], {});\n",
              "          if (!dataTable) return;\n",
              "\n",
              "          const docLinkHtml = 'Like what you see? Visit the ' +\n",
              "            '<a target=\"_blank\" href=https://colab.research.google.com/notebooks/data_table.ipynb>data table notebook</a>'\n",
              "            + ' to learn more about interactive tables.';\n",
              "          element.innerHTML = '';\n",
              "          dataTable['output_type'] = 'display_data';\n",
              "          await google.colab.output.renderOutput(dataTable, element);\n",
              "          const docLink = document.createElement('div');\n",
              "          docLink.innerHTML = docLinkHtml;\n",
              "          element.appendChild(docLink);\n",
              "        }\n",
              "      </script>\n",
              "    </div>\n",
              "  </div>\n",
              "  "
            ],
            "text/plain": [
              "                                       hotel_address  \\\n",
              "0                 Via Senigallia 6 20161 Milan Italy   \n",
              "1  Arlandaweg 10 Westpoort 1043 EW Amsterdam Neth...   \n",
              "2        Mallorca 251 Eixample 08008 Barcelona Spain   \n",
              "\n",
              "   additional_number_of_scoring review_date  average_score  \\\n",
              "0                           904   7/21/2017            8.1   \n",
              "1                           612  12/12/2016            8.6   \n",
              "2                            46  11/26/2015            8.3   \n",
              "\n",
              "                                   hotel_name reviewer_nationality  \\\n",
              "0                              Hotel Da Vinci      United Kingdom    \n",
              "1                           Urban Lodge Hotel             Belgium    \n",
              "2  Alexandra Barcelona A DoubleTree by Hilton              Sweden    \n",
              "\n",
              "                                     negative_review  \\\n",
              "0   Would have appreciated a shop in the hotel th...   \n",
              "1        No tissue paper box was present at the room   \n",
              "2                                           Pillows    \n",
              "\n",
              "   review_total_negative_word_counts  total_number_of_reviews  \\\n",
              "0                                 52                    16670   \n",
              "1                                 10                     5018   \n",
              "2                                  3                      351   \n",
              "\n",
              "                                     positive_review  \\\n",
              "0   Hotel was great clean friendly staff free bre...   \n",
              "1                                        No Positive   \n",
              "2                         Nice welcoming and service   \n",
              "\n",
              "   review_total_positive_word_counts  \\\n",
              "0                                 62   \n",
              "1                                  0   \n",
              "2                                  5   \n",
              "\n",
              "   total_number_of_reviews_reviewer_has_given  \\\n",
              "0                                           1   \n",
              "1                                           7   \n",
              "2                                          15   \n",
              "\n",
              "                                                tags days_since_review  \\\n",
              "0  [' Leisure trip ', ' Couple ', ' Double Room '...           13 days   \n",
              "1  [' Leisure trip ', ' Group ', ' Triple Room ',...           234 day   \n",
              "2  [' Business trip ', ' Solo traveler ', ' Twin ...           616 day   \n",
              "\n",
              "         lat       lng  \n",
              "0  45.533137  9.171102  \n",
              "1  52.385649  4.834443  \n",
              "2  41.393192  2.161520  "
            ]
          },
          "execution_count": 17,
          "metadata": {},
          "output_type": "execute_result"
        }
      ],
      "source": [
        "test_data.head(3)"
      ]
    },
    {
      "cell_type": "code",
      "execution_count": 18,
      "id": "8552ae84",
      "metadata": {
        "colab": {
          "base_uri": "https://localhost:8080/"
        },
        "id": "8552ae84",
        "outputId": "0dd6bcb7-5e2b-4099-e209-34fdd9107266"
      },
      "outputs": [
        {
          "name": "stdout",
          "output_type": "stream",
          "text": [
            "Число найденных дубликатов: 307\n"
          ]
        }
      ],
      "source": [
        "# найдем дубликаты\n",
        "mask = train_data.duplicated(subset=train_data.columns)\n",
        "data_duplicates = train_data[mask]\n",
        "print(f'Число найденных дубликатов: {data_duplicates.shape[0]}')"
      ]
    },
    {
      "cell_type": "code",
      "execution_count": 19,
      "id": "b47b425c",
      "metadata": {
        "id": "b47b425c"
      },
      "outputs": [],
      "source": [
        "# удалим дубликаты\n",
        "train_data.drop_duplicates(inplace=True)"
      ]
    },
    {
      "cell_type": "code",
      "execution_count": 20,
      "id": "d68a5536",
      "metadata": {
        "id": "d68a5536"
      },
      "outputs": [],
      "source": [
        "# объединим данные\n",
        "train_data['sample'] = 1\n",
        "train_data['id'] = train_data.index\n",
        "test_data['sample'] = 0\n",
        "test_data['reviewer_score'] = 0\n",
        "test_data['id'] = test_data.index\n",
        "data = train_data.copy()\n",
        "data = pd.concat([train_data,test_data],axis=0,ignore_index=True)"
      ]
    },
    {
      "cell_type": "code",
      "execution_count": 21,
      "id": "1f4544f9",
      "metadata": {
        "colab": {
          "base_uri": "https://localhost:8080/"
        },
        "id": "1f4544f9",
        "outputId": "2a8638a6-b952-4e3c-b85e-cb4a1f9efee3"
      },
      "outputs": [
        {
          "data": {
            "text/plain": [
              "lat    0.634032\n",
              "lng    0.634032\n",
              "dtype: float64"
            ]
          },
          "execution_count": 21,
          "metadata": {},
          "output_type": "execute_result"
        }
      ],
      "source": [
        "# исследуем данные на наличие пропусков\n",
        "cols_null_percent = data.isnull().mean() * 100\n",
        "cols_with_null = cols_null_percent[cols_null_percent>0].sort_values(ascending=False)\n",
        "cols_with_null"
      ]
    },
    {
      "cell_type": "code",
      "execution_count": 22,
      "id": "982f5ae0",
      "metadata": {
        "id": "982f5ae0"
      },
      "outputs": [],
      "source": [
        "data.drop(['lat', 'lng'], axis=1, inplace=True)"
      ]
    },
    {
      "cell_type": "code",
      "execution_count": 24,
      "id": "11d61a22",
      "metadata": {
        "id": "11d61a22"
      },
      "outputs": [],
      "source": [
        "# выделим признаки месяца и года из даты отзыва, предварительно приведя признак к формату datetime. \n",
        "# Удалим первоначальный признак даты.\n",
        "data['review_date'] = pd.to_datetime(data['review_date'], format='%m/%d/%Y')\n",
        "data['review_day'] = data['review_date'].dt.day.astype(int)\n",
        "data['review_month'] = data['review_date'].dt.month.astype(int)\n",
        "data['review_year'] = data['review_date'].dt.year.astype(int)\n",
        "data['review_weekday'] = data['review_date'].dt.dayofweek.astype(int)\n",
        "\n",
        "data.drop(['review_date', 'positive_review', 'negative_review'], axis=1, inplace=True)"
      ]
    },
    {
      "cell_type": "code",
      "execution_count": 15,
      "id": "c2022753",
      "metadata": {
        "id": "c2022753"
      },
      "outputs": [],
      "source": [
        "# преобразуем колонку 'tags' таким образом, чтобы остались только 10 наиболее популярных тэгов в значениях.\n",
        "data['tags'] = data['tags'].apply(lambda x: x.lower())\n",
        "data['tags_list'] = data['tags'].apply(lambda x: x[3:-3].split(\" ', ' \"))\n",
        "\n",
        "# Получаем топ-10 тегов\n",
        "top_tags = list(data['tags'].explode().value_counts().index)[:10]\n",
        "\n",
        "# Реализуем вариант OneHotEncoder для топ-10 тегов\n",
        "for t in top_tags:\n",
        "    data[t] = data['tags'].apply(lambda x: 1 if t in x else 0)\n",
        "\n",
        "data = data.drop(['tags'], axis=1)"
      ]
    },
    {
      "cell_type": "code",
      "execution_count": 25,
      "id": "ff02541d",
      "metadata": {
        "id": "ff02541d"
      },
      "outputs": [],
      "source": [
        "# произведем кодировку признака 'reviewer_nationality' методом двоичного кодирования \n",
        "# (так как количество значений более 200). Удалим исходный признак.\n",
        "\n",
        "bin_encoder = ce.BinaryEncoder(cols=['reviewer_nationality'])\n",
        "type_bin = bin_encoder.fit_transform(data['reviewer_nationality'])\n",
        "data = pd.concat([data, type_bin], axis=1)\n",
        "\n",
        "data.drop(['reviewer_nationality'], axis=1, inplace=True)"
      ]
    },
    {
      "cell_type": "code",
      "execution_count": 26,
      "id": "75aa3206",
      "metadata": {
        "id": "75aa3206"
      },
      "outputs": [],
      "source": [
        "# gроизведем кодировку признака hotel_name методом двоичного кодирования \n",
        "# (так как количество значений более 1400). Удалим исходный признак.\n",
        "\n",
        "bin_encoder = ce.BinaryEncoder(cols=['hotel_name'])\n",
        "type_bin = bin_encoder.fit_transform(data['hotel_name'])\n",
        "data = pd.concat([data, type_bin], axis=1)\n",
        "\n",
        "data.drop(['hotel_name'], axis=1, inplace=True)"
      ]
    },
    {
      "cell_type": "code",
      "execution_count": 27,
      "id": "0a8e1cbc",
      "metadata": {
        "id": "0a8e1cbc"
      },
      "outputs": [],
      "source": [
        "# удалим оставшиеся текстовые признаки\n",
        "\n",
        "object_columns = [s for s in data.columns if data[s].dtypes == 'object']\n",
        "data.drop(object_columns, axis = 1, inplace=True)"
      ]
    },
    {
      "cell_type": "code",
      "execution_count": 28,
      "id": "b27f8802",
      "metadata": {
        "colab": {
          "base_uri": "https://localhost:8080/"
        },
        "id": "b27f8802",
        "outputId": "bd858fd0-651f-4707-94f0-e4a665b72e60"
      },
      "outputs": [
        {
          "name": "stderr",
          "output_type": "stream",
          "text": [
            "<ipython-input-28-93113067ceb9>:6: SettingWithCopyWarning: \n",
            "A value is trying to be set on a copy of a slice from a DataFrame\n",
            "\n",
            "See the caveats in the documentation: https://pandas.pydata.org/pandas-docs/stable/user_guide/indexing.html#returning-a-view-versus-a-copy\n",
            "  train_data.drop(['sample','id'],axis=1,inplace=True)\n",
            "<ipython-input-28-93113067ceb9>:7: SettingWithCopyWarning: \n",
            "A value is trying to be set on a copy of a slice from a DataFrame\n",
            "\n",
            "See the caveats in the documentation: https://pandas.pydata.org/pandas-docs/stable/user_guide/indexing.html#returning-a-view-versus-a-copy\n",
            "  test_data.drop(['sample','id','reviewer_score'],axis=1,inplace=True)\n"
          ]
        }
      ],
      "source": [
        "train_data = data[data['sample'] == 1]\n",
        "test_data = data[data['sample'] == 0]\n",
        "train_data.index = train_data['id']\n",
        "test_data.index = test_data['id']\n",
        "\n",
        "train_data.drop(['sample','id'],axis=1,inplace=True)\n",
        "test_data.drop(['sample','id','reviewer_score'],axis=1,inplace=True)"
      ]
    },
    {
      "cell_type": "code",
      "execution_count": 29,
      "id": "dd048e3c",
      "metadata": {
        "id": "dd048e3c"
      },
      "outputs": [],
      "source": [
        "# непрерывные признаки\n",
        "\n",
        "num_cols = ['average_score', 'sentiment_score', 'polarity_pos', 'polarity_neg', \n",
        "            'total_number_of_reviews', 'review_total_negative_word_counts', \n",
        "            'review_total_positive_word_counts', \n",
        "            'total_number_of_reviews_reviewer_has_given',\n",
        "            'additional_number_of_scoring', 'days_since_review_int', \n",
        "            'сity_population', 'сity_area']\n",
        "\n",
        "# категориальные признаки\n",
        "cat_cols = ['review_day', 'review_month', 'review_year', 'review_weekday']   #'tags'"
      ]
    },
    {
      "cell_type": "code",
      "execution_count": 30,
      "id": "159508b5",
      "metadata": {
        "colab": {
          "base_uri": "https://localhost:8080/",
          "height": 618
        },
        "id": "159508b5",
        "outputId": "feab6462-7a28-47ce-f571-a20fdc515723"
      },
      "outputs": [
        {
          "data": {
            "text/plain": [
              "<Axes: >"
            ]
          },
          "execution_count": 30,
          "metadata": {},
          "output_type": "execute_result"
        },
        {
          "data": {
            "image/png": "[encoded data removed]",
            "text/plain": [
              "<Figure size 1500x1000 with 1 Axes>"
            ]
          },
          "metadata": {},
          "output_type": "display_data"
        }
      ],
      "source": [
        "# оценим влияние категориальных признаков\n",
        "\n",
        "# Разбиваем датафрейм на части, необходимые для обучения и тестирования модели  \n",
        "# Х - данные с информацией об отелях, у - целевая переменная (рейтинги отелей)  \n",
        "\n",
        "X = train_data.drop(['reviewer_score'], axis = 1)  \n",
        "y = train_data['reviewer_score'] \n",
        "\n",
        "y=y.astype('int')\n",
        "\n",
        "plt.rcParams['figure.figsize'] = (15,10)\n",
        "imp_cat = pd.Series(chi2(X[cat_cols], y)[0], index=cat_cols)\n",
        "imp_cat.sort_values(inplace = True)\n",
        "imp_cat.plot(kind = 'barh')"
      ]
    },
    {
      "cell_type": "code",
      "execution_count": 31,
      "id": "5fbe41b0",
      "metadata": {
        "colab": {
          "base_uri": "https://localhost:8080/"
        },
        "id": "5fbe41b0",
        "outputId": "fb418e47-1535-44a0-e1d6-12d85f8b2852"
      },
      "outputs": [
        {
          "name": "stderr",
          "output_type": "stream",
          "text": [
            "<ipython-input-31-3dd0dae584ee>:3: SettingWithCopyWarning: \n",
            "A value is trying to be set on a copy of a slice from a DataFrame\n",
            "\n",
            "See the caveats in the documentation: https://pandas.pydata.org/pandas-docs/stable/user_guide/indexing.html#returning-a-view-versus-a-copy\n",
            "  train_data.drop(['review_year'],axis=1, inplace=True)\n",
            "<ipython-input-31-3dd0dae584ee>:4: SettingWithCopyWarning: \n",
            "A value is trying to be set on a copy of a slice from a DataFrame\n",
            "\n",
            "See the caveats in the documentation: https://pandas.pydata.org/pandas-docs/stable/user_guide/indexing.html#returning-a-view-versus-a-copy\n",
            "  test_data.drop(['review_year'],axis=1, inplace=True)\n"
          ]
        }
      ],
      "source": [
        "# удалим колонки с низким рейтингом\n",
        "\n",
        "train_data.drop(['review_year'],axis=1, inplace=True)\n",
        "test_data.drop(['review_year'],axis=1, inplace=True)"
      ]
    },
    {
      "cell_type": "code",
      "execution_count": null,
      "id": "4b61a9aa",
      "metadata": {
        "colab": {
          "base_uri": "https://localhost:8080/"
        },
        "id": "4b61a9aa",
        "outputId": "3d158b20-8b5d-4382-e567-2deb581021e6"
      },
      "outputs": [
        {
          "name": "stderr",
          "output_type": "stream",
          "text": [
            "[Parallel(n_jobs=-1)]: Using backend ThreadingBackend with 2 concurrent workers.\n",
            "[Parallel(n_jobs=-1)]: Done  46 tasks      | elapsed:  2.2min\n",
            "[Parallel(n_jobs=-1)]: Done 196 tasks      | elapsed:  8.9min\n"
          ]
        }
      ],
      "source": [
        "# pазбиваем датафрейм на части, необходимые для обучения и тестирования модели  \n",
        "# Х - данные с информацией об отелях, у - целевая переменная (рейтинги отелей) \n",
        "\n",
        "X = train_data.drop(['reviewer_score'], axis = 1)  \n",
        "y = train_data['reviewer_score'] \n",
        "\n",
        "# наборы данных с меткой \"train\" будут использоваться для обучения модели, \"test\" - для тестирования.  \n",
        "# Для тестирования мы будем использовать 25% от исходного датасета.  \n",
        "\n",
        "X_train, X_test, y_train, y_test = train_test_split(X, y, test_size=0.25, random_state=42)\n",
        "\n",
        "# создаём модель\n",
        "\n",
        "RANDOM_SEED = 42\n",
        "model = RandomForestRegressor(n_estimators=500, verbose=1, random_state=RANDOM_SEED, n_jobs=-1)  \n",
        "      \n",
        "# Обучаем модель на тестовом наборе данных\n",
        "\n",
        "model.fit(X_train, y_train)  \n",
        "      \n",
        "# используем обученную модель для предсказания рейтинга отелей в тестовой выборке.  \n",
        "# Предсказанные значения записываем в переменную y_pred  \n",
        "\n",
        "y_pred = model.predict(X_test)\n",
        "\n",
        "\n",
        "# сравниваем предсказанные значения (y_pred) с реальными (y_test), и смотрим насколько они отличаются.  \n",
        "# Метрика называется Mean Absolute Percentage Error (MAPE) и показывает среднюю абсолютную процентную\n",
        "# ошибку предсказанных значений от фактических. \n",
        "\n",
        "print('MAPE:', metrics.mean_absolute_percentage_error(y_test, y_pred))"
      ]
    },
    {
      "cell_type": "code",
      "execution_count": null,
      "id": "8de08726",
      "metadata": {
        "id": "8de08726",
        "outputId": "c97753ea-a523-4c18-963f-f9c836a218d2",
        "scrolled": true
      },
      "outputs": [
        {
          "data": {
            "text/plain": [
              "<AxesSubplot: >"
            ]
          },
          "execution_count": 31,
          "metadata": {},
          "output_type": "execute_result"
        },
        {
          "data": {
            "image/png": "[encoded data removed]",
            "text/plain": [
              "<Figure size 1000x1000 with 1 Axes>"
            ]
          },
          "metadata": {},
          "output_type": "display_data"
        }
      ],
      "source": [
        "# выведем самые важные признаки для модели\n",
        "\n",
        "plt.rcParams['figure.figsize'] = (10,10)\n",
        "feat_importances = pd.Series(model.feature_importances_, index=X.columns)\n",
        "feat_importances.nlargest(15).plot(kind='barh')"
      ]
    },
    {
      "cell_type": "code",
      "execution_count": null,
      "id": "8ac32f21",
      "metadata": {
        "id": "8ac32f21",
        "outputId": "1b3e332c-ae3a-45da-c6ab-321e9a95484e"
      },
      "outputs": [
        {
          "name": "stderr",
          "output_type": "stream",
          "text": [
            "[Parallel(n_jobs=2)]: Using backend ThreadingBackend with 2 concurrent workers.\n",
            "[Parallel(n_jobs=2)]: Done  46 tasks      | elapsed:   14.7s\n",
            "[Parallel(n_jobs=2)]: Done 196 tasks      | elapsed:   52.3s\n",
            "[Parallel(n_jobs=2)]: Done 446 tasks      | elapsed:  1.9min\n",
            "[Parallel(n_jobs=2)]: Done 500 out of 500 | elapsed:  2.1min finished\n"
          ]
        }
      ],
      "source": [
        "test_pred = model.predict(test_data)"
      ]
    }
  ],
  "metadata": {
    "colab": {
      "gpuType": "T4",
      "provenance": []
    },
    "gpuClass": "standard",
    "kernelspec": {
      "display_name": "Python 3 (ipykernel)",
      "language": "python",
      "name": "python3"
    },
    "language_info": {
      "codemirror_mode": {
        "name": "ipython",
        "version": 3
      },
      "file_extension": ".py",
      "mimetype": "text/x-python",
      "name": "python",
      "nbconvert_exporter": "python",
      "pygments_lexer": "ipython3",
      "version": "3.8.5"
    }
  },
  "nbformat": 4,
  "nbformat_minor": 5
}
